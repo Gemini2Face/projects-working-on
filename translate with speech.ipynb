{
 "cells": [
  {
   "cell_type": "code",
   "execution_count": 1,
   "id": "initial_id",
   "metadata": {
    "collapsed": true,
    "ExecuteTime": {
     "end_time": "2024-07-03T03:15:19.579689300Z",
     "start_time": "2024-07-03T03:15:14.751167500Z"
    }
   },
   "outputs": [
    {
     "name": "stdout",
     "output_type": "stream",
     "text": [
      "Audio content written to file \"segment_0_translation.mp3\"\n",
      "Audio content written to file \"full_translation.mp3\"\n",
      "Segment Translations:\n",
      "Segment 1: Ich werde deine Frage beantworten und dann für gesegnetes Schweigen zurückkehren\n",
      "\n",
      "Full Translation:\n",
      "Ich werde deine Frage beantworten und dann für gesegnetes Schweigen zurückkehren\n"
     ]
    }
   ],
   "source": [
    "from pydub import AudioSegment\n",
    "import speech_recognition as sr\n",
    "from google.cloud import translate_v3 as translate\n",
    "from google.cloud import texttospeech\n",
    "from google.oauth2 import service_account\n",
    "import os\n",
    "import json\n",
    "\n",
    "\n",
    "credentials_path = r'C:\\Users\\abhis\\OneDrive\\Desktop\\realign voice cloning\\tactile-vehicle-427513-g4-745aea4da0e0.json'\n",
    "with open(credentials_path, 'r') as file:\n",
    "    data = json.load(file)\n",
    "    project_id = data['project_id']\n",
    "\n",
    "credentials = service_account.Credentials.from_service_account_file(credentials_path)\n",
    "translate_client = translate.TranslationServiceClient(credentials=credentials)\n",
    "tts_client = texttospeech.TextToSpeechClient(credentials=credentials)\n",
    "\n",
    "\n",
    "r = sr.Recognizer()\n",
    "\n",
    "def segment_audio(audio_path, segment_length=10):\n",
    "    \n",
    "    audio = AudioSegment.from_file(audio_path)\n",
    "    length = len(audio)\n",
    "    return [audio[i:i + segment_length * 1000] for i in range(0, length, segment_length * 1000)]\n",
    "\n",
    "def transcribe_audio(audio_path):\n",
    "   \n",
    "    with sr.AudioFile(audio_path) as source:\n",
    "        audio_recorded = r.record(source)\n",
    "        try:\n",
    "            return r.recognize_google(audio_recorded)\n",
    "        except sr.UnknownValueError:\n",
    "            return \"Google Speech Recognition could not understand audio.\"\n",
    "        except sr.RequestError as e:\n",
    "            return f\"Could not request results from Google Speech Recognition service; {e}.\"\n",
    "\n",
    "def translate_text(text, target_language=\"de\"):\n",
    "    \n",
    "    if not text:\n",
    "        return \"No text to translate.\"\n",
    "    parent = f\"projects/{project_id}/locations/global\"\n",
    "    response = translate_client.translate_text(\n",
    "        request={\n",
    "            \"parent\": parent,\n",
    "            \"contents\": [text],\n",
    "            \"mime_type\": \"text/plain\",\n",
    "            \"source_language_code\": \"en\",\n",
    "            \"target_language_code\": target_language,\n",
    "        }\n",
    "    )\n",
    "    return response.translations[0].translated_text\n",
    "\n",
    "def text_to_speech(text, language_code='en-US', output_filename='output.mp3'):\n",
    "    \n",
    "    synthesis_input = texttospeech.SynthesisInput(text=text)\n",
    "    voice = texttospeech.VoiceSelectionParams(\n",
    "        language_code=language_code,\n",
    "        ssml_gender=texttospeech.SsmlVoiceGender.MALE\n",
    "    )\n",
    "    audio_config = texttospeech.AudioConfig(\n",
    "        audio_encoding=texttospeech.AudioEncoding.MP3\n",
    "    )\n",
    "    response = tts_client.synthesize_speech(input=synthesis_input, voice=voice, audio_config=audio_config)\n",
    "    with open(output_filename, 'wb') as audio_file:\n",
    "        audio_file.write(response.audio_content)\n",
    "        print(f'Audio content written to file \"{output_filename}\"')\n",
    "\n",
    "def process_audio_file(audio_file):\n",
    "    segments = segment_audio(audio_file)\n",
    "    segment_translations = []\n",
    "    \n",
    "    for i, segment in enumerate(segments):\n",
    "        segment_file = f\"temp_segment_{i}.wav\"\n",
    "        segment.export(segment_file, format='wav')\n",
    "        text = transcribe_audio(segment_file)\n",
    "        translation = translate_text(text)\n",
    "        tts_filename = f\"segment_{i}_translation.mp3\"\n",
    "        text_to_speech(translation, 'de-DE', tts_filename)\n",
    "        segment_translations.append(translation)\n",
    "        os.remove(segment_file)\n",
    "    \n",
    "    full_text = transcribe_audio(audio_file)\n",
    "    full_translation = translate_text(full_text)\n",
    "    text_to_speech(full_translation, 'de-DE', 'full_translation.mp3')\n",
    "    \n",
    "    print(\"Segment Translations:\")\n",
    "    for i, translation in enumerate(segment_translations):\n",
    "        print(f\"Segment {i+1}: {translation}\")\n",
    "    \n",
    "    print(\"\\nFull Translation:\")\n",
    "    print(full_translation)\n",
    "\n",
    "if __name__ == \"__main__\":\n",
    "    audio_file_path = r'C:\\Users\\abhis\\OneDrive\\Desktop\\realign voice cloning\\Voicy_Answer your question for silence.wav'\n",
    "    process_audio_file(audio_file_path)\n"
   ]
  },
  {
   "cell_type": "code",
   "execution_count": 2,
   "outputs": [],
   "source": [],
   "metadata": {
    "collapsed": false,
    "ExecuteTime": {
     "end_time": "2024-06-28T16:18:58.279487800Z",
     "start_time": "2024-06-28T16:18:58.277210Z"
    }
   },
   "id": "e22fb7d301ca406c"
  }
 ],
 "metadata": {
  "kernelspec": {
   "display_name": "Python 3",
   "language": "python",
   "name": "python3"
  },
  "language_info": {
   "codemirror_mode": {
    "name": "ipython",
    "version": 2
   },
   "file_extension": ".py",
   "mimetype": "text/x-python",
   "name": "python",
   "nbconvert_exporter": "python",
   "pygments_lexer": "ipython2",
   "version": "2.7.6"
  }
 },
 "nbformat": 4,
 "nbformat_minor": 5
}
