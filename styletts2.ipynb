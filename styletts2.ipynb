{
 "cells": [
  {
   "cell_type": "code",
   "execution_count": 1,
   "id": "initial_id",
   "metadata": {
    "collapsed": true,
    "ExecuteTime": {
     "end_time": "2024-07-11T06:53:09.469866Z",
     "start_time": "2024-07-11T06:53:09.314306600Z"
    }
   },
   "outputs": [
    {
     "name": "stderr",
     "output_type": "stream",
     "text": [
      "fatal: destination path 'StyleTTS2' already exists and is not an empty directory.\n"
     ]
    }
   ],
   "source": [
    "!git clone https://github.com/yl4579/StyleTTS2.git\n",
    "!cd StyleTTS2\n"
   ]
  },
  {
   "cell_type": "code",
   "execution_count": 2,
   "outputs": [
    {
     "name": "stderr",
     "output_type": "stream",
     "text": [
      "ERROR: Could not open requirements file: [Errno 2] No such file or directory: 'requirements.txt'\n",
      "\n",
      "[notice] A new release of pip is available: 23.2.1 -> 24.1.2\n",
      "[notice] To update, run: python.exe -m pip install --upgrade pip\n"
     ]
    },
    {
     "name": "stdout",
     "output_type": "stream",
     "text": [
      "Looking in indexes: https://download.pytorch.org/whl/cu118\n",
      "Requirement already satisfied: torch in c:\\users\\abhis\\appdata\\local\\programs\\python\\python311\\lib\\site-packages (2.3.1+cu118)\n",
      "Requirement already satisfied: torchvision in c:\\users\\abhis\\appdata\\local\\programs\\python\\python311\\lib\\site-packages (0.18.1+cu118)\n",
      "Requirement already satisfied: torchaudio in c:\\users\\abhis\\appdata\\local\\programs\\python\\python311\\lib\\site-packages (2.3.1+cu118)\n",
      "Requirement already satisfied: filelock in c:\\users\\abhis\\appdata\\local\\programs\\python\\python311\\lib\\site-packages (from torch) (3.12.4)\n",
      "Requirement already satisfied: typing-extensions>=4.8.0 in c:\\users\\abhis\\appdata\\local\\programs\\python\\python311\\lib\\site-packages (from torch) (4.10.0)\n",
      "Requirement already satisfied: sympy in c:\\users\\abhis\\appdata\\local\\programs\\python\\python311\\lib\\site-packages (from torch) (1.12)\n",
      "Requirement already satisfied: networkx in c:\\users\\abhis\\appdata\\local\\programs\\python\\python311\\lib\\site-packages (from torch) (2.8.8)\n",
      "Requirement already satisfied: jinja2 in c:\\users\\abhis\\appdata\\local\\programs\\python\\python311\\lib\\site-packages (from torch) (3.1.2)\n",
      "Requirement already satisfied: fsspec in c:\\users\\abhis\\appdata\\local\\programs\\python\\python311\\lib\\site-packages (from torch) (2023.12.2)\n",
      "Requirement already satisfied: mkl<=2021.4.0,>=2021.1.1 in c:\\users\\abhis\\appdata\\local\\programs\\python\\python311\\lib\\site-packages (from torch) (2021.4.0)\n",
      "Requirement already satisfied: numpy in c:\\users\\abhis\\appdata\\local\\programs\\python\\python311\\lib\\site-packages (from torchvision) (1.26.0rc1)\n",
      "Requirement already satisfied: pillow!=8.3.*,>=5.3.0 in c:\\users\\abhis\\appdata\\local\\programs\\python\\python311\\lib\\site-packages (from torchvision) (10.0.0)\n",
      "Requirement already satisfied: intel-openmp==2021.* in c:\\users\\abhis\\appdata\\local\\programs\\python\\python311\\lib\\site-packages (from mkl<=2021.4.0,>=2021.1.1->torch) (2021.4.0)\n",
      "Requirement already satisfied: tbb==2021.* in c:\\users\\abhis\\appdata\\local\\programs\\python\\python311\\lib\\site-packages (from mkl<=2021.4.0,>=2021.1.1->torch) (2021.12.0)\n",
      "Requirement already satisfied: MarkupSafe>=2.0 in c:\\users\\abhis\\appdata\\local\\programs\\python\\python311\\lib\\site-packages (from jinja2->torch) (2.1.3)\n",
      "Requirement already satisfied: mpmath>=0.19 in c:\\users\\abhis\\appdata\\local\\programs\\python\\python311\\lib\\site-packages (from sympy->torch) (1.3.0)\n"
     ]
    },
    {
     "name": "stderr",
     "output_type": "stream",
     "text": [
      "\n",
      "[notice] A new release of pip is available: 23.2.1 -> 24.1.2\n",
      "[notice] To update, run: python.exe -m pip install --upgrade pip\n"
     ]
    },
    {
     "name": "stdout",
     "output_type": "stream",
     "text": [
      "Requirement already satisfied: phonemizer in c:\\users\\abhis\\appdata\\local\\programs\\python\\python311\\lib\\site-packages (3.2.1)\n",
      "Requirement already satisfied: joblib in c:\\users\\abhis\\appdata\\local\\programs\\python\\python311\\lib\\site-packages (from phonemizer) (1.3.2)\n",
      "Requirement already satisfied: segments in c:\\users\\abhis\\appdata\\local\\programs\\python\\python311\\lib\\site-packages (from phonemizer) (2.2.1)\n",
      "Requirement already satisfied: attrs>=18.1 in c:\\users\\abhis\\appdata\\local\\programs\\python\\python311\\lib\\site-packages (from phonemizer) (23.2.0)\n",
      "Requirement already satisfied: dlinfo in c:\\users\\abhis\\appdata\\local\\programs\\python\\python311\\lib\\site-packages (from phonemizer) (1.2.1)\n",
      "Requirement already satisfied: typing-extensions in c:\\users\\abhis\\appdata\\local\\programs\\python\\python311\\lib\\site-packages (from phonemizer) (4.10.0)\n",
      "Requirement already satisfied: clldutils>=1.7.3 in c:\\users\\abhis\\appdata\\local\\programs\\python\\python311\\lib\\site-packages (from segments->phonemizer) (3.22.2)\n",
      "Requirement already satisfied: csvw>=1.5.6 in c:\\users\\abhis\\appdata\\local\\programs\\python\\python311\\lib\\site-packages (from segments->phonemizer) (3.3.0)\n",
      "Requirement already satisfied: regex in c:\\users\\abhis\\appdata\\local\\programs\\python\\python311\\lib\\site-packages (from segments->phonemizer) (2023.10.3)\n",
      "Requirement already satisfied: python-dateutil in c:\\users\\abhis\\appdata\\local\\programs\\python\\python311\\lib\\site-packages (from clldutils>=1.7.3->segments->phonemizer) (2.8.2)\n",
      "Requirement already satisfied: tabulate>=0.7.7 in c:\\users\\abhis\\appdata\\local\\programs\\python\\python311\\lib\\site-packages (from clldutils>=1.7.3->segments->phonemizer) (0.9.0)\n",
      "Requirement already satisfied: colorlog in c:\\users\\abhis\\appdata\\local\\programs\\python\\python311\\lib\\site-packages (from clldutils>=1.7.3->segments->phonemizer) (6.8.2)\n",
      "Requirement already satisfied: bibtexparser>=2.0.0b4 in c:\\users\\abhis\\appdata\\local\\programs\\python\\python311\\lib\\site-packages (from clldutils>=1.7.3->segments->phonemizer) (2.0.0b7)\n",
      "Requirement already satisfied: pylatexenc in c:\\users\\abhis\\appdata\\local\\programs\\python\\python311\\lib\\site-packages (from clldutils>=1.7.3->segments->phonemizer) (2.10)\n",
      "Requirement already satisfied: markdown in c:\\users\\abhis\\appdata\\local\\programs\\python\\python311\\lib\\site-packages (from clldutils>=1.7.3->segments->phonemizer) (3.4.4)\n",
      "Requirement already satisfied: lxml in c:\\users\\abhis\\appdata\\local\\programs\\python\\python311\\lib\\site-packages (from clldutils>=1.7.3->segments->phonemizer) (4.9.3)\n",
      "Requirement already satisfied: markupsafe in c:\\users\\abhis\\appdata\\local\\programs\\python\\python311\\lib\\site-packages (from clldutils>=1.7.3->segments->phonemizer) (2.1.3)\n",
      "Requirement already satisfied: babel in c:\\users\\abhis\\appdata\\local\\programs\\python\\python311\\lib\\site-packages (from csvw>=1.5.6->segments->phonemizer) (2.12.1)\n",
      "Requirement already satisfied: colorama in c:\\users\\abhis\\appdata\\local\\programs\\python\\python311\\lib\\site-packages (from csvw>=1.5.6->segments->phonemizer) (0.4.6)\n",
      "Requirement already satisfied: isodate in c:\\users\\abhis\\appdata\\local\\programs\\python\\python311\\lib\\site-packages (from csvw>=1.5.6->segments->phonemizer) (0.6.1)\n",
      "Requirement already satisfied: jsonschema in c:\\users\\abhis\\appdata\\local\\programs\\python\\python311\\lib\\site-packages (from csvw>=1.5.6->segments->phonemizer) (4.19.0)\n",
      "Requirement already satisfied: language-tags in c:\\users\\abhis\\appdata\\local\\programs\\python\\python311\\lib\\site-packages (from csvw>=1.5.6->segments->phonemizer) (1.2.0)\n",
      "Requirement already satisfied: rdflib in c:\\users\\abhis\\appdata\\local\\programs\\python\\python311\\lib\\site-packages (from csvw>=1.5.6->segments->phonemizer) (7.0.0)\n",
      "Requirement already satisfied: requests in c:\\users\\abhis\\appdata\\local\\programs\\python\\python311\\lib\\site-packages (from csvw>=1.5.6->segments->phonemizer) (2.32.3)\n",
      "Requirement already satisfied: rfc3986<2 in c:\\users\\abhis\\appdata\\local\\programs\\python\\python311\\lib\\site-packages (from csvw>=1.5.6->segments->phonemizer) (1.5.0)\n",
      "Requirement already satisfied: uritemplate>=3.0.0 in c:\\users\\abhis\\appdata\\local\\programs\\python\\python311\\lib\\site-packages (from csvw>=1.5.6->segments->phonemizer) (4.1.1)\n",
      "Requirement already satisfied: six in c:\\users\\abhis\\appdata\\local\\programs\\python\\python311\\lib\\site-packages (from isodate->csvw>=1.5.6->segments->phonemizer) (1.16.0)\n",
      "Requirement already satisfied: jsonschema-specifications>=2023.03.6 in c:\\users\\abhis\\appdata\\local\\programs\\python\\python311\\lib\\site-packages (from jsonschema->csvw>=1.5.6->segments->phonemizer) (2023.7.1)\n",
      "Requirement already satisfied: referencing>=0.28.4 in c:\\users\\abhis\\appdata\\local\\programs\\python\\python311\\lib\\site-packages (from jsonschema->csvw>=1.5.6->segments->phonemizer) (0.30.2)\n",
      "Requirement already satisfied: rpds-py>=0.7.1 in c:\\users\\abhis\\appdata\\local\\programs\\python\\python311\\lib\\site-packages (from jsonschema->csvw>=1.5.6->segments->phonemizer) (0.10.2)\n",
      "Requirement already satisfied: pyparsing<4,>=2.1.0 in c:\\users\\abhis\\appdata\\local\\programs\\python\\python311\\lib\\site-packages (from rdflib->csvw>=1.5.6->segments->phonemizer) (3.0.9)\n",
      "Requirement already satisfied: charset-normalizer<4,>=2 in c:\\users\\abhis\\appdata\\local\\programs\\python\\python311\\lib\\site-packages (from requests->csvw>=1.5.6->segments->phonemizer) (3.2.0)\n",
      "Requirement already satisfied: idna<4,>=2.5 in c:\\users\\abhis\\appdata\\local\\programs\\python\\python311\\lib\\site-packages (from requests->csvw>=1.5.6->segments->phonemizer) (2.10)\n",
      "Requirement already satisfied: urllib3<3,>=1.21.1 in c:\\users\\abhis\\appdata\\local\\programs\\python\\python311\\lib\\site-packages (from requests->csvw>=1.5.6->segments->phonemizer) (1.26.16)\n",
      "Requirement already satisfied: certifi>=2017.4.17 in c:\\users\\abhis\\appdata\\local\\programs\\python\\python311\\lib\\site-packages (from requests->csvw>=1.5.6->segments->phonemizer) (2023.7.22)\n"
     ]
    },
    {
     "name": "stderr",
     "output_type": "stream",
     "text": [
      "\n",
      "[notice] A new release of pip is available: 23.2.1 -> 24.1.2\n",
      "[notice] To update, run: python.exe -m pip install --upgrade pip\n",
      "ERROR: Could not find a version that satisfies the requirement espeak-ng (from versions: none)\n",
      "ERROR: No matching distribution found for espeak-ng\n",
      "\n",
      "[notice] A new release of pip is available: 23.2.1 -> 24.1.2\n",
      "[notice] To update, run: python.exe -m pip install --upgrade pip\n"
     ]
    }
   ],
   "source": [
    "!pip install -r requirements.txt\n",
    "!pip install torch torchvision torchaudio --index-url https://download.pytorch.org/whl/cu118 -U\n",
    "!pip install phonemizer\n",
    "!pip install espeak-ng\n"
   ],
   "metadata": {
    "collapsed": false,
    "ExecuteTime": {
     "end_time": "2024-07-11T06:53:17.806882600Z",
     "start_time": "2024-07-11T06:53:09.472379300Z"
    }
   },
   "id": "9926ef8ccb2a22b1"
  },
  {
   "cell_type": "code",
   "execution_count": 3,
   "outputs": [
    {
     "name": "stdout",
     "output_type": "stream",
     "text": [
      "Looking in indexes: https://download.pytorch.org/whl/cu118\n",
      "Requirement already satisfied: torch in c:\\users\\abhis\\appdata\\local\\programs\\python\\python311\\lib\\site-packages (2.3.1+cu118)\n",
      "Requirement already satisfied: torchvision in c:\\users\\abhis\\appdata\\local\\programs\\python\\python311\\lib\\site-packages (0.18.1+cu118)\n",
      "Requirement already satisfied: torchaudio in c:\\users\\abhis\\appdata\\local\\programs\\python\\python311\\lib\\site-packages (2.3.1+cu118)\n",
      "Requirement already satisfied: filelock in c:\\users\\abhis\\appdata\\local\\programs\\python\\python311\\lib\\site-packages (from torch) (3.12.4)\n",
      "Requirement already satisfied: typing-extensions>=4.8.0 in c:\\users\\abhis\\appdata\\local\\programs\\python\\python311\\lib\\site-packages (from torch) (4.10.0)\n",
      "Requirement already satisfied: sympy in c:\\users\\abhis\\appdata\\local\\programs\\python\\python311\\lib\\site-packages (from torch) (1.12)\n",
      "Requirement already satisfied: networkx in c:\\users\\abhis\\appdata\\local\\programs\\python\\python311\\lib\\site-packages (from torch) (2.8.8)\n",
      "Requirement already satisfied: jinja2 in c:\\users\\abhis\\appdata\\local\\programs\\python\\python311\\lib\\site-packages (from torch) (3.1.2)\n",
      "Requirement already satisfied: fsspec in c:\\users\\abhis\\appdata\\local\\programs\\python\\python311\\lib\\site-packages (from torch) (2023.12.2)\n",
      "Requirement already satisfied: mkl<=2021.4.0,>=2021.1.1 in c:\\users\\abhis\\appdata\\local\\programs\\python\\python311\\lib\\site-packages (from torch) (2021.4.0)\n",
      "Requirement already satisfied: numpy in c:\\users\\abhis\\appdata\\local\\programs\\python\\python311\\lib\\site-packages (from torchvision) (1.26.0rc1)\n",
      "Requirement already satisfied: pillow!=8.3.*,>=5.3.0 in c:\\users\\abhis\\appdata\\local\\programs\\python\\python311\\lib\\site-packages (from torchvision) (10.0.0)\n",
      "Requirement already satisfied: intel-openmp==2021.* in c:\\users\\abhis\\appdata\\local\\programs\\python\\python311\\lib\\site-packages (from mkl<=2021.4.0,>=2021.1.1->torch) (2021.4.0)\n",
      "Requirement already satisfied: tbb==2021.* in c:\\users\\abhis\\appdata\\local\\programs\\python\\python311\\lib\\site-packages (from mkl<=2021.4.0,>=2021.1.1->torch) (2021.12.0)\n",
      "Requirement already satisfied: MarkupSafe>=2.0 in c:\\users\\abhis\\appdata\\local\\programs\\python\\python311\\lib\\site-packages (from jinja2->torch) (2.1.3)\n",
      "Requirement already satisfied: mpmath>=0.19 in c:\\users\\abhis\\appdata\\local\\programs\\python\\python311\\lib\\site-packages (from sympy->torch) (1.3.0)\n"
     ]
    },
    {
     "name": "stderr",
     "output_type": "stream",
     "text": [
      "\n",
      "[notice] A new release of pip is available: 23.2.1 -> 24.1.2\n",
      "[notice] To update, run: python.exe -m pip install --upgrade pip\n"
     ]
    },
    {
     "name": "stdout",
     "output_type": "stream",
     "text": [
      "Requirement already satisfied: phonemizer in c:\\users\\abhis\\appdata\\local\\programs\\python\\python311\\lib\\site-packages (3.2.1)\n",
      "Requirement already satisfied: joblib in c:\\users\\abhis\\appdata\\local\\programs\\python\\python311\\lib\\site-packages (from phonemizer) (1.3.2)\n",
      "Requirement already satisfied: segments in c:\\users\\abhis\\appdata\\local\\programs\\python\\python311\\lib\\site-packages (from phonemizer) (2.2.1)\n",
      "Requirement already satisfied: attrs>=18.1 in c:\\users\\abhis\\appdata\\local\\programs\\python\\python311\\lib\\site-packages (from phonemizer) (23.2.0)\n",
      "Requirement already satisfied: dlinfo in c:\\users\\abhis\\appdata\\local\\programs\\python\\python311\\lib\\site-packages (from phonemizer) (1.2.1)\n",
      "Requirement already satisfied: typing-extensions in c:\\users\\abhis\\appdata\\local\\programs\\python\\python311\\lib\\site-packages (from phonemizer) (4.10.0)\n",
      "Requirement already satisfied: clldutils>=1.7.3 in c:\\users\\abhis\\appdata\\local\\programs\\python\\python311\\lib\\site-packages (from segments->phonemizer) (3.22.2)\n",
      "Requirement already satisfied: csvw>=1.5.6 in c:\\users\\abhis\\appdata\\local\\programs\\python\\python311\\lib\\site-packages (from segments->phonemizer) (3.3.0)\n",
      "Requirement already satisfied: regex in c:\\users\\abhis\\appdata\\local\\programs\\python\\python311\\lib\\site-packages (from segments->phonemizer) (2023.10.3)\n",
      "Requirement already satisfied: python-dateutil in c:\\users\\abhis\\appdata\\local\\programs\\python\\python311\\lib\\site-packages (from clldutils>=1.7.3->segments->phonemizer) (2.8.2)\n",
      "Requirement already satisfied: tabulate>=0.7.7 in c:\\users\\abhis\\appdata\\local\\programs\\python\\python311\\lib\\site-packages (from clldutils>=1.7.3->segments->phonemizer) (0.9.0)\n",
      "Requirement already satisfied: colorlog in c:\\users\\abhis\\appdata\\local\\programs\\python\\python311\\lib\\site-packages (from clldutils>=1.7.3->segments->phonemizer) (6.8.2)\n",
      "Requirement already satisfied: bibtexparser>=2.0.0b4 in c:\\users\\abhis\\appdata\\local\\programs\\python\\python311\\lib\\site-packages (from clldutils>=1.7.3->segments->phonemizer) (2.0.0b7)\n",
      "Requirement already satisfied: pylatexenc in c:\\users\\abhis\\appdata\\local\\programs\\python\\python311\\lib\\site-packages (from clldutils>=1.7.3->segments->phonemizer) (2.10)\n",
      "Requirement already satisfied: markdown in c:\\users\\abhis\\appdata\\local\\programs\\python\\python311\\lib\\site-packages (from clldutils>=1.7.3->segments->phonemizer) (3.4.4)\n",
      "Requirement already satisfied: lxml in c:\\users\\abhis\\appdata\\local\\programs\\python\\python311\\lib\\site-packages (from clldutils>=1.7.3->segments->phonemizer) (4.9.3)\n",
      "Requirement already satisfied: markupsafe in c:\\users\\abhis\\appdata\\local\\programs\\python\\python311\\lib\\site-packages (from clldutils>=1.7.3->segments->phonemizer) (2.1.3)\n",
      "Requirement already satisfied: babel in c:\\users\\abhis\\appdata\\local\\programs\\python\\python311\\lib\\site-packages (from csvw>=1.5.6->segments->phonemizer) (2.12.1)\n",
      "Requirement already satisfied: colorama in c:\\users\\abhis\\appdata\\local\\programs\\python\\python311\\lib\\site-packages (from csvw>=1.5.6->segments->phonemizer) (0.4.6)\n",
      "Requirement already satisfied: isodate in c:\\users\\abhis\\appdata\\local\\programs\\python\\python311\\lib\\site-packages (from csvw>=1.5.6->segments->phonemizer) (0.6.1)\n",
      "Requirement already satisfied: jsonschema in c:\\users\\abhis\\appdata\\local\\programs\\python\\python311\\lib\\site-packages (from csvw>=1.5.6->segments->phonemizer) (4.19.0)\n",
      "Requirement already satisfied: language-tags in c:\\users\\abhis\\appdata\\local\\programs\\python\\python311\\lib\\site-packages (from csvw>=1.5.6->segments->phonemizer) (1.2.0)\n",
      "Requirement already satisfied: rdflib in c:\\users\\abhis\\appdata\\local\\programs\\python\\python311\\lib\\site-packages (from csvw>=1.5.6->segments->phonemizer) (7.0.0)\n",
      "Requirement already satisfied: requests in c:\\users\\abhis\\appdata\\local\\programs\\python\\python311\\lib\\site-packages (from csvw>=1.5.6->segments->phonemizer) (2.32.3)\n",
      "Requirement already satisfied: rfc3986<2 in c:\\users\\abhis\\appdata\\local\\programs\\python\\python311\\lib\\site-packages (from csvw>=1.5.6->segments->phonemizer) (1.5.0)\n",
      "Requirement already satisfied: uritemplate>=3.0.0 in c:\\users\\abhis\\appdata\\local\\programs\\python\\python311\\lib\\site-packages (from csvw>=1.5.6->segments->phonemizer) (4.1.1)\n",
      "Requirement already satisfied: six in c:\\users\\abhis\\appdata\\local\\programs\\python\\python311\\lib\\site-packages (from isodate->csvw>=1.5.6->segments->phonemizer) (1.16.0)\n",
      "Requirement already satisfied: jsonschema-specifications>=2023.03.6 in c:\\users\\abhis\\appdata\\local\\programs\\python\\python311\\lib\\site-packages (from jsonschema->csvw>=1.5.6->segments->phonemizer) (2023.7.1)\n",
      "Requirement already satisfied: referencing>=0.28.4 in c:\\users\\abhis\\appdata\\local\\programs\\python\\python311\\lib\\site-packages (from jsonschema->csvw>=1.5.6->segments->phonemizer) (0.30.2)\n",
      "Requirement already satisfied: rpds-py>=0.7.1 in c:\\users\\abhis\\appdata\\local\\programs\\python\\python311\\lib\\site-packages (from jsonschema->csvw>=1.5.6->segments->phonemizer) (0.10.2)\n",
      "Requirement already satisfied: pyparsing<4,>=2.1.0 in c:\\users\\abhis\\appdata\\local\\programs\\python\\python311\\lib\\site-packages (from rdflib->csvw>=1.5.6->segments->phonemizer) (3.0.9)\n",
      "Requirement already satisfied: charset-normalizer<4,>=2 in c:\\users\\abhis\\appdata\\local\\programs\\python\\python311\\lib\\site-packages (from requests->csvw>=1.5.6->segments->phonemizer) (3.2.0)\n",
      "Requirement already satisfied: idna<4,>=2.5 in c:\\users\\abhis\\appdata\\local\\programs\\python\\python311\\lib\\site-packages (from requests->csvw>=1.5.6->segments->phonemizer) (2.10)\n",
      "Requirement already satisfied: urllib3<3,>=1.21.1 in c:\\users\\abhis\\appdata\\local\\programs\\python\\python311\\lib\\site-packages (from requests->csvw>=1.5.6->segments->phonemizer) (1.26.16)\n",
      "Requirement already satisfied: certifi>=2017.4.17 in c:\\users\\abhis\\appdata\\local\\programs\\python\\python311\\lib\\site-packages (from requests->csvw>=1.5.6->segments->phonemizer) (2023.7.22)\n"
     ]
    },
    {
     "name": "stderr",
     "output_type": "stream",
     "text": [
      "\n",
      "[notice] A new release of pip is available: 23.2.1 -> 24.1.2\n",
      "[notice] To update, run: python.exe -m pip install --upgrade pip\n"
     ]
    }
   ],
   "source": [
    "\n",
    "!pip install torch torchvision torchaudio --index-url https://download.pytorch.org/whl/cu118 -U\n",
    "!pip install phonemizer\n"
   ],
   "metadata": {
    "collapsed": false,
    "ExecuteTime": {
     "end_time": "2024-07-11T06:53:23.995185Z",
     "start_time": "2024-07-11T06:53:17.801899600Z"
    }
   },
   "id": "5efdd1fa2bc417ca"
  },
  {
   "cell_type": "code",
   "execution_count": 4,
   "outputs": [
    {
     "name": "stdout",
     "output_type": "stream",
     "text": [
      "Requirement already satisfied: SoundFile in c:\\users\\abhis\\appdata\\local\\programs\\python\\python311\\lib\\site-packages (0.12.1)\n",
      "Requirement already satisfied: cffi>=1.0 in c:\\users\\abhis\\appdata\\local\\programs\\python\\python311\\lib\\site-packages (from SoundFile) (1.15.1)\n",
      "Requirement already satisfied: pycparser in c:\\users\\abhis\\appdata\\local\\programs\\python\\python311\\lib\\site-packages (from cffi>=1.0->SoundFile) (2.21)\n"
     ]
    },
    {
     "name": "stderr",
     "output_type": "stream",
     "text": [
      "\n",
      "[notice] A new release of pip is available: 23.2.1 -> 24.1.2\n",
      "[notice] To update, run: python.exe -m pip install --upgrade pip\n"
     ]
    },
    {
     "name": "stdout",
     "output_type": "stream",
     "text": [
      "Requirement already satisfied: torchaudio in c:\\users\\abhis\\appdata\\local\\programs\\python\\python311\\lib\\site-packages (2.3.1+cu118)\n",
      "Requirement already satisfied: torch==2.3.1+cu118 in c:\\users\\abhis\\appdata\\local\\programs\\python\\python311\\lib\\site-packages (from torchaudio) (2.3.1+cu118)\n",
      "Requirement already satisfied: filelock in c:\\users\\abhis\\appdata\\local\\programs\\python\\python311\\lib\\site-packages (from torch==2.3.1+cu118->torchaudio) (3.12.4)\n",
      "Requirement already satisfied: typing-extensions>=4.8.0 in c:\\users\\abhis\\appdata\\local\\programs\\python\\python311\\lib\\site-packages (from torch==2.3.1+cu118->torchaudio) (4.10.0)\n",
      "Requirement already satisfied: sympy in c:\\users\\abhis\\appdata\\local\\programs\\python\\python311\\lib\\site-packages (from torch==2.3.1+cu118->torchaudio) (1.12)\n",
      "Requirement already satisfied: networkx in c:\\users\\abhis\\appdata\\local\\programs\\python\\python311\\lib\\site-packages (from torch==2.3.1+cu118->torchaudio) (2.8.8)\n",
      "Requirement already satisfied: jinja2 in c:\\users\\abhis\\appdata\\local\\programs\\python\\python311\\lib\\site-packages (from torch==2.3.1+cu118->torchaudio) (3.1.2)\n",
      "Requirement already satisfied: fsspec in c:\\users\\abhis\\appdata\\local\\programs\\python\\python311\\lib\\site-packages (from torch==2.3.1+cu118->torchaudio) (2023.12.2)\n",
      "Requirement already satisfied: mkl<=2021.4.0,>=2021.1.1 in c:\\users\\abhis\\appdata\\local\\programs\\python\\python311\\lib\\site-packages (from torch==2.3.1+cu118->torchaudio) (2021.4.0)\n",
      "Requirement already satisfied: intel-openmp==2021.* in c:\\users\\abhis\\appdata\\local\\programs\\python\\python311\\lib\\site-packages (from mkl<=2021.4.0,>=2021.1.1->torch==2.3.1+cu118->torchaudio) (2021.4.0)\n",
      "Requirement already satisfied: tbb==2021.* in c:\\users\\abhis\\appdata\\local\\programs\\python\\python311\\lib\\site-packages (from mkl<=2021.4.0,>=2021.1.1->torch==2.3.1+cu118->torchaudio) (2021.12.0)\n",
      "Requirement already satisfied: MarkupSafe>=2.0 in c:\\users\\abhis\\appdata\\local\\programs\\python\\python311\\lib\\site-packages (from jinja2->torch==2.3.1+cu118->torchaudio) (2.1.3)\n",
      "Requirement already satisfied: mpmath>=0.19 in c:\\users\\abhis\\appdata\\local\\programs\\python\\python311\\lib\\site-packages (from sympy->torch==2.3.1+cu118->torchaudio) (1.3.0)\n"
     ]
    },
    {
     "name": "stderr",
     "output_type": "stream",
     "text": [
      "\n",
      "[notice] A new release of pip is available: 23.2.1 -> 24.1.2\n",
      "[notice] To update, run: python.exe -m pip install --upgrade pip\n"
     ]
    },
    {
     "name": "stdout",
     "output_type": "stream",
     "text": [
      "Requirement already satisfied: munch in c:\\users\\abhis\\appdata\\local\\programs\\python\\python311\\lib\\site-packages (4.0.0)\n"
     ]
    },
    {
     "name": "stderr",
     "output_type": "stream",
     "text": [
      "\n",
      "[notice] A new release of pip is available: 23.2.1 -> 24.1.2\n",
      "[notice] To update, run: python.exe -m pip install --upgrade pip\n"
     ]
    },
    {
     "name": "stdout",
     "output_type": "stream",
     "text": [
      "Requirement already satisfied: torch in c:\\users\\abhis\\appdata\\local\\programs\\python\\python311\\lib\\site-packages (2.3.1+cu118)\n",
      "Requirement already satisfied: filelock in c:\\users\\abhis\\appdata\\local\\programs\\python\\python311\\lib\\site-packages (from torch) (3.12.4)\n",
      "Requirement already satisfied: typing-extensions>=4.8.0 in c:\\users\\abhis\\appdata\\local\\programs\\python\\python311\\lib\\site-packages (from torch) (4.10.0)\n",
      "Requirement already satisfied: sympy in c:\\users\\abhis\\appdata\\local\\programs\\python\\python311\\lib\\site-packages (from torch) (1.12)\n",
      "Requirement already satisfied: networkx in c:\\users\\abhis\\appdata\\local\\programs\\python\\python311\\lib\\site-packages (from torch) (2.8.8)\n",
      "Requirement already satisfied: jinja2 in c:\\users\\abhis\\appdata\\local\\programs\\python\\python311\\lib\\site-packages (from torch) (3.1.2)\n",
      "Requirement already satisfied: fsspec in c:\\users\\abhis\\appdata\\local\\programs\\python\\python311\\lib\\site-packages (from torch) (2023.12.2)\n",
      "Requirement already satisfied: mkl<=2021.4.0,>=2021.1.1 in c:\\users\\abhis\\appdata\\local\\programs\\python\\python311\\lib\\site-packages (from torch) (2021.4.0)\n",
      "Requirement already satisfied: intel-openmp==2021.* in c:\\users\\abhis\\appdata\\local\\programs\\python\\python311\\lib\\site-packages (from mkl<=2021.4.0,>=2021.1.1->torch) (2021.4.0)\n",
      "Requirement already satisfied: tbb==2021.* in c:\\users\\abhis\\appdata\\local\\programs\\python\\python311\\lib\\site-packages (from mkl<=2021.4.0,>=2021.1.1->torch) (2021.12.0)\n",
      "Requirement already satisfied: MarkupSafe>=2.0 in c:\\users\\abhis\\appdata\\local\\programs\\python\\python311\\lib\\site-packages (from jinja2->torch) (2.1.3)\n",
      "Requirement already satisfied: mpmath>=0.19 in c:\\users\\abhis\\appdata\\local\\programs\\python\\python311\\lib\\site-packages (from sympy->torch) (1.3.0)\n"
     ]
    },
    {
     "name": "stderr",
     "output_type": "stream",
     "text": [
      "\n",
      "[notice] A new release of pip is available: 23.2.1 -> 24.1.2\n",
      "[notice] To update, run: python.exe -m pip install --upgrade pip\n"
     ]
    },
    {
     "name": "stdout",
     "output_type": "stream",
     "text": [
      "Requirement already satisfied: pydub in c:\\users\\abhis\\appdata\\local\\programs\\python\\python311\\lib\\site-packages (0.25.1)\n"
     ]
    },
    {
     "name": "stderr",
     "output_type": "stream",
     "text": [
      "\n",
      "[notice] A new release of pip is available: 23.2.1 -> 24.1.2\n",
      "[notice] To update, run: python.exe -m pip install --upgrade pip\n"
     ]
    },
    {
     "name": "stdout",
     "output_type": "stream",
     "text": [
      "Requirement already satisfied: pyyaml in c:\\users\\abhis\\appdata\\local\\programs\\python\\python311\\lib\\site-packages (6.0.1)\n"
     ]
    },
    {
     "name": "stderr",
     "output_type": "stream",
     "text": [
      "\n",
      "[notice] A new release of pip is available: 23.2.1 -> 24.1.2\n",
      "[notice] To update, run: python.exe -m pip install --upgrade pip\n"
     ]
    },
    {
     "name": "stdout",
     "output_type": "stream",
     "text": [
      "Requirement already satisfied: librosa in c:\\users\\abhis\\appdata\\local\\programs\\python\\python311\\lib\\site-packages (0.10.1)\n",
      "Requirement already satisfied: audioread>=2.1.9 in c:\\users\\abhis\\appdata\\local\\programs\\python\\python311\\lib\\site-packages (from librosa) (3.0.1)\n",
      "Requirement already satisfied: numpy!=1.22.0,!=1.22.1,!=1.22.2,>=1.20.3 in c:\\users\\abhis\\appdata\\local\\programs\\python\\python311\\lib\\site-packages (from librosa) (1.26.0rc1)\n",
      "Requirement already satisfied: scipy>=1.2.0 in c:\\users\\abhis\\appdata\\local\\programs\\python\\python311\\lib\\site-packages (from librosa) (1.11.2)\n",
      "Requirement already satisfied: scikit-learn>=0.20.0 in c:\\users\\abhis\\appdata\\local\\programs\\python\\python311\\lib\\site-packages (from librosa) (1.3.0)\n",
      "Requirement already satisfied: joblib>=0.14 in c:\\users\\abhis\\appdata\\local\\programs\\python\\python311\\lib\\site-packages (from librosa) (1.3.2)\n",
      "Requirement already satisfied: decorator>=4.3.0 in c:\\users\\abhis\\appdata\\local\\programs\\python\\python311\\lib\\site-packages (from librosa) (5.1.1)\n",
      "Requirement already satisfied: numba>=0.51.0 in c:\\users\\abhis\\appdata\\local\\programs\\python\\python311\\lib\\site-packages (from librosa) (0.58.1)\n",
      "Requirement already satisfied: soundfile>=0.12.1 in c:\\users\\abhis\\appdata\\local\\programs\\python\\python311\\lib\\site-packages (from librosa) (0.12.1)\n",
      "Requirement already satisfied: pooch>=1.0 in c:\\users\\abhis\\appdata\\local\\programs\\python\\python311\\lib\\site-packages (from librosa) (1.8.0)\n",
      "Requirement already satisfied: soxr>=0.3.2 in c:\\users\\abhis\\appdata\\local\\programs\\python\\python311\\lib\\site-packages (from librosa) (0.3.7)\n",
      "Requirement already satisfied: typing-extensions>=4.1.1 in c:\\users\\abhis\\appdata\\local\\programs\\python\\python311\\lib\\site-packages (from librosa) (4.10.0)\n",
      "Requirement already satisfied: lazy-loader>=0.1 in c:\\users\\abhis\\appdata\\local\\programs\\python\\python311\\lib\\site-packages (from librosa) (0.3)\n",
      "Requirement already satisfied: msgpack>=1.0 in c:\\users\\abhis\\appdata\\local\\programs\\python\\python311\\lib\\site-packages (from librosa) (1.0.7)\n",
      "Requirement already satisfied: llvmlite<0.42,>=0.41.0dev0 in c:\\users\\abhis\\appdata\\local\\programs\\python\\python311\\lib\\site-packages (from numba>=0.51.0->librosa) (0.41.1)\n",
      "Requirement already satisfied: platformdirs>=2.5.0 in c:\\users\\abhis\\appdata\\local\\programs\\python\\python311\\lib\\site-packages (from pooch>=1.0->librosa) (3.10.0)\n",
      "Requirement already satisfied: packaging>=20.0 in c:\\users\\abhis\\appdata\\local\\programs\\python\\python311\\lib\\site-packages (from pooch>=1.0->librosa) (23.2)\n",
      "Requirement already satisfied: requests>=2.19.0 in c:\\users\\abhis\\appdata\\local\\programs\\python\\python311\\lib\\site-packages (from pooch>=1.0->librosa) (2.32.3)\n",
      "Requirement already satisfied: threadpoolctl>=2.0.0 in c:\\users\\abhis\\appdata\\local\\programs\\python\\python311\\lib\\site-packages (from scikit-learn>=0.20.0->librosa) (3.2.0)\n",
      "Requirement already satisfied: cffi>=1.0 in c:\\users\\abhis\\appdata\\local\\programs\\python\\python311\\lib\\site-packages (from soundfile>=0.12.1->librosa) (1.15.1)\n",
      "Requirement already satisfied: pycparser in c:\\users\\abhis\\appdata\\local\\programs\\python\\python311\\lib\\site-packages (from cffi>=1.0->soundfile>=0.12.1->librosa) (2.21)\n",
      "Requirement already satisfied: charset-normalizer<4,>=2 in c:\\users\\abhis\\appdata\\local\\programs\\python\\python311\\lib\\site-packages (from requests>=2.19.0->pooch>=1.0->librosa) (3.2.0)\n",
      "Requirement already satisfied: idna<4,>=2.5 in c:\\users\\abhis\\appdata\\local\\programs\\python\\python311\\lib\\site-packages (from requests>=2.19.0->pooch>=1.0->librosa) (2.10)\n",
      "Requirement already satisfied: urllib3<3,>=1.21.1 in c:\\users\\abhis\\appdata\\local\\programs\\python\\python311\\lib\\site-packages (from requests>=2.19.0->pooch>=1.0->librosa) (1.26.16)\n",
      "Requirement already satisfied: certifi>=2017.4.17 in c:\\users\\abhis\\appdata\\local\\programs\\python\\python311\\lib\\site-packages (from requests>=2.19.0->pooch>=1.0->librosa) (2023.7.22)\n"
     ]
    },
    {
     "name": "stderr",
     "output_type": "stream",
     "text": [
      "\n",
      "[notice] A new release of pip is available: 23.2.1 -> 24.1.2\n",
      "[notice] To update, run: python.exe -m pip install --upgrade pip\n"
     ]
    },
    {
     "name": "stdout",
     "output_type": "stream",
     "text": [
      "Requirement already satisfied: nltk in c:\\users\\abhis\\appdata\\local\\programs\\python\\python311\\lib\\site-packages (3.8.1)\n",
      "Requirement already satisfied: click in c:\\users\\abhis\\appdata\\local\\programs\\python\\python311\\lib\\site-packages (from nltk) (8.1.3)\n",
      "Requirement already satisfied: joblib in c:\\users\\abhis\\appdata\\local\\programs\\python\\python311\\lib\\site-packages (from nltk) (1.3.2)\n",
      "Requirement already satisfied: regex>=2021.8.3 in c:\\users\\abhis\\appdata\\local\\programs\\python\\python311\\lib\\site-packages (from nltk) (2023.10.3)\n",
      "Requirement already satisfied: tqdm in c:\\users\\abhis\\appdata\\local\\programs\\python\\python311\\lib\\site-packages (from nltk) (4.66.4)\n",
      "Requirement already satisfied: colorama in c:\\users\\abhis\\appdata\\local\\programs\\python\\python311\\lib\\site-packages (from click->nltk) (0.4.6)\n"
     ]
    },
    {
     "name": "stderr",
     "output_type": "stream",
     "text": [
      "\n",
      "[notice] A new release of pip is available: 23.2.1 -> 24.1.2\n",
      "[notice] To update, run: python.exe -m pip install --upgrade pip\n"
     ]
    },
    {
     "name": "stdout",
     "output_type": "stream",
     "text": [
      "Requirement already satisfied: matplotlib in c:\\users\\abhis\\appdata\\local\\programs\\python\\python311\\lib\\site-packages (3.7.2)\n",
      "Requirement already satisfied: contourpy>=1.0.1 in c:\\users\\abhis\\appdata\\local\\programs\\python\\python311\\lib\\site-packages (from matplotlib) (1.1.0)\n",
      "Requirement already satisfied: cycler>=0.10 in c:\\users\\abhis\\appdata\\local\\programs\\python\\python311\\lib\\site-packages (from matplotlib) (0.11.0)\n",
      "Requirement already satisfied: fonttools>=4.22.0 in c:\\users\\abhis\\appdata\\local\\programs\\python\\python311\\lib\\site-packages (from matplotlib) (4.42.1)\n",
      "Requirement already satisfied: kiwisolver>=1.0.1 in c:\\users\\abhis\\appdata\\local\\programs\\python\\python311\\lib\\site-packages (from matplotlib) (1.4.5)\n",
      "Requirement already satisfied: numpy>=1.20 in c:\\users\\abhis\\appdata\\local\\programs\\python\\python311\\lib\\site-packages (from matplotlib) (1.26.0rc1)\n",
      "Requirement already satisfied: packaging>=20.0 in c:\\users\\abhis\\appdata\\local\\programs\\python\\python311\\lib\\site-packages (from matplotlib) (23.2)\n",
      "Requirement already satisfied: pillow>=6.2.0 in c:\\users\\abhis\\appdata\\local\\programs\\python\\python311\\lib\\site-packages (from matplotlib) (10.0.0)\n",
      "Requirement already satisfied: pyparsing<3.1,>=2.3.1 in c:\\users\\abhis\\appdata\\local\\programs\\python\\python311\\lib\\site-packages (from matplotlib) (3.0.9)\n",
      "Requirement already satisfied: python-dateutil>=2.7 in c:\\users\\abhis\\appdata\\local\\programs\\python\\python311\\lib\\site-packages (from matplotlib) (2.8.2)\n",
      "Requirement already satisfied: six>=1.5 in c:\\users\\abhis\\appdata\\local\\programs\\python\\python311\\lib\\site-packages (from python-dateutil>=2.7->matplotlib) (1.16.0)\n"
     ]
    },
    {
     "name": "stderr",
     "output_type": "stream",
     "text": [
      "\n",
      "[notice] A new release of pip is available: 23.2.1 -> 24.1.2\n",
      "[notice] To update, run: python.exe -m pip install --upgrade pip\n"
     ]
    },
    {
     "name": "stdout",
     "output_type": "stream",
     "text": [
      "Requirement already satisfied: accelerate in c:\\users\\abhis\\appdata\\local\\programs\\python\\python311\\lib\\site-packages (0.25.0)\n",
      "Requirement already satisfied: numpy>=1.17 in c:\\users\\abhis\\appdata\\local\\programs\\python\\python311\\lib\\site-packages (from accelerate) (1.26.0rc1)\n",
      "Requirement already satisfied: packaging>=20.0 in c:\\users\\abhis\\appdata\\local\\programs\\python\\python311\\lib\\site-packages (from accelerate) (23.2)\n",
      "Requirement already satisfied: psutil in c:\\users\\abhis\\appdata\\local\\programs\\python\\python311\\lib\\site-packages (from accelerate) (5.9.5)\n",
      "Requirement already satisfied: pyyaml in c:\\users\\abhis\\appdata\\local\\programs\\python\\python311\\lib\\site-packages (from accelerate) (6.0.1)\n",
      "Requirement already satisfied: torch>=1.10.0 in c:\\users\\abhis\\appdata\\local\\programs\\python\\python311\\lib\\site-packages (from accelerate) (2.3.1+cu118)\n",
      "Requirement already satisfied: huggingface-hub in c:\\users\\abhis\\appdata\\local\\programs\\python\\python311\\lib\\site-packages (from accelerate) (0.19.4)\n",
      "Requirement already satisfied: safetensors>=0.3.1 in c:\\users\\abhis\\appdata\\local\\programs\\python\\python311\\lib\\site-packages (from accelerate) (0.4.2)\n",
      "Requirement already satisfied: filelock in c:\\users\\abhis\\appdata\\local\\programs\\python\\python311\\lib\\site-packages (from torch>=1.10.0->accelerate) (3.12.4)\n",
      "Requirement already satisfied: typing-extensions>=4.8.0 in c:\\users\\abhis\\appdata\\local\\programs\\python\\python311\\lib\\site-packages (from torch>=1.10.0->accelerate) (4.10.0)\n",
      "Requirement already satisfied: sympy in c:\\users\\abhis\\appdata\\local\\programs\\python\\python311\\lib\\site-packages (from torch>=1.10.0->accelerate) (1.12)\n",
      "Requirement already satisfied: networkx in c:\\users\\abhis\\appdata\\local\\programs\\python\\python311\\lib\\site-packages (from torch>=1.10.0->accelerate) (2.8.8)\n",
      "Requirement already satisfied: jinja2 in c:\\users\\abhis\\appdata\\local\\programs\\python\\python311\\lib\\site-packages (from torch>=1.10.0->accelerate) (3.1.2)\n",
      "Requirement already satisfied: fsspec in c:\\users\\abhis\\appdata\\local\\programs\\python\\python311\\lib\\site-packages (from torch>=1.10.0->accelerate) (2023.12.2)\n",
      "Requirement already satisfied: mkl<=2021.4.0,>=2021.1.1 in c:\\users\\abhis\\appdata\\local\\programs\\python\\python311\\lib\\site-packages (from torch>=1.10.0->accelerate) (2021.4.0)\n",
      "Requirement already satisfied: requests in c:\\users\\abhis\\appdata\\local\\programs\\python\\python311\\lib\\site-packages (from huggingface-hub->accelerate) (2.32.3)\n",
      "Requirement already satisfied: tqdm>=4.42.1 in c:\\users\\abhis\\appdata\\local\\programs\\python\\python311\\lib\\site-packages (from huggingface-hub->accelerate) (4.66.4)\n",
      "Requirement already satisfied: intel-openmp==2021.* in c:\\users\\abhis\\appdata\\local\\programs\\python\\python311\\lib\\site-packages (from mkl<=2021.4.0,>=2021.1.1->torch>=1.10.0->accelerate) (2021.4.0)\n",
      "Requirement already satisfied: tbb==2021.* in c:\\users\\abhis\\appdata\\local\\programs\\python\\python311\\lib\\site-packages (from mkl<=2021.4.0,>=2021.1.1->torch>=1.10.0->accelerate) (2021.12.0)\n",
      "Requirement already satisfied: colorama in c:\\users\\abhis\\appdata\\local\\programs\\python\\python311\\lib\\site-packages (from tqdm>=4.42.1->huggingface-hub->accelerate) (0.4.6)\n",
      "Requirement already satisfied: MarkupSafe>=2.0 in c:\\users\\abhis\\appdata\\local\\programs\\python\\python311\\lib\\site-packages (from jinja2->torch>=1.10.0->accelerate) (2.1.3)\n",
      "Requirement already satisfied: charset-normalizer<4,>=2 in c:\\users\\abhis\\appdata\\local\\programs\\python\\python311\\lib\\site-packages (from requests->huggingface-hub->accelerate) (3.2.0)\n",
      "Requirement already satisfied: idna<4,>=2.5 in c:\\users\\abhis\\appdata\\local\\programs\\python\\python311\\lib\\site-packages (from requests->huggingface-hub->accelerate) (2.10)\n",
      "Requirement already satisfied: urllib3<3,>=1.21.1 in c:\\users\\abhis\\appdata\\local\\programs\\python\\python311\\lib\\site-packages (from requests->huggingface-hub->accelerate) (1.26.16)\n",
      "Requirement already satisfied: certifi>=2017.4.17 in c:\\users\\abhis\\appdata\\local\\programs\\python\\python311\\lib\\site-packages (from requests->huggingface-hub->accelerate) (2023.7.22)\n",
      "Requirement already satisfied: mpmath>=0.19 in c:\\users\\abhis\\appdata\\local\\programs\\python\\python311\\lib\\site-packages (from sympy->torch>=1.10.0->accelerate) (1.3.0)\n"
     ]
    },
    {
     "name": "stderr",
     "output_type": "stream",
     "text": [
      "\n",
      "[notice] A new release of pip is available: 23.2.1 -> 24.1.2\n",
      "[notice] To update, run: python.exe -m pip install --upgrade pip\n"
     ]
    },
    {
     "name": "stdout",
     "output_type": "stream",
     "text": [
      "Requirement already satisfied: transformers in c:\\users\\abhis\\appdata\\local\\programs\\python\\python311\\lib\\site-packages (4.40.2)\n",
      "Requirement already satisfied: filelock in c:\\users\\abhis\\appdata\\local\\programs\\python\\python311\\lib\\site-packages (from transformers) (3.12.4)\n",
      "Requirement already satisfied: huggingface-hub<1.0,>=0.19.3 in c:\\users\\abhis\\appdata\\local\\programs\\python\\python311\\lib\\site-packages (from transformers) (0.19.4)\n",
      "Requirement already satisfied: numpy>=1.17 in c:\\users\\abhis\\appdata\\local\\programs\\python\\python311\\lib\\site-packages (from transformers) (1.26.0rc1)\n",
      "Requirement already satisfied: packaging>=20.0 in c:\\users\\abhis\\appdata\\local\\programs\\python\\python311\\lib\\site-packages (from transformers) (23.2)\n",
      "Requirement already satisfied: pyyaml>=5.1 in c:\\users\\abhis\\appdata\\local\\programs\\python\\python311\\lib\\site-packages (from transformers) (6.0.1)\n",
      "Requirement already satisfied: regex!=2019.12.17 in c:\\users\\abhis\\appdata\\local\\programs\\python\\python311\\lib\\site-packages (from transformers) (2023.10.3)\n",
      "Requirement already satisfied: requests in c:\\users\\abhis\\appdata\\local\\programs\\python\\python311\\lib\\site-packages (from transformers) (2.32.3)\n",
      "Requirement already satisfied: tokenizers<0.20,>=0.19 in c:\\users\\abhis\\appdata\\local\\programs\\python\\python311\\lib\\site-packages (from transformers) (0.19.1)\n",
      "Requirement already satisfied: safetensors>=0.4.1 in c:\\users\\abhis\\appdata\\local\\programs\\python\\python311\\lib\\site-packages (from transformers) (0.4.2)\n",
      "Requirement already satisfied: tqdm>=4.27 in c:\\users\\abhis\\appdata\\local\\programs\\python\\python311\\lib\\site-packages (from transformers) (4.66.4)\n",
      "Requirement already satisfied: fsspec>=2023.5.0 in c:\\users\\abhis\\appdata\\local\\programs\\python\\python311\\lib\\site-packages (from huggingface-hub<1.0,>=0.19.3->transformers) (2023.12.2)\n",
      "Requirement already satisfied: typing-extensions>=3.7.4.3 in c:\\users\\abhis\\appdata\\local\\programs\\python\\python311\\lib\\site-packages (from huggingface-hub<1.0,>=0.19.3->transformers) (4.10.0)\n",
      "Requirement already satisfied: colorama in c:\\users\\abhis\\appdata\\local\\programs\\python\\python311\\lib\\site-packages (from tqdm>=4.27->transformers) (0.4.6)\n",
      "Requirement already satisfied: charset-normalizer<4,>=2 in c:\\users\\abhis\\appdata\\local\\programs\\python\\python311\\lib\\site-packages (from requests->transformers) (3.2.0)\n",
      "Requirement already satisfied: idna<4,>=2.5 in c:\\users\\abhis\\appdata\\local\\programs\\python\\python311\\lib\\site-packages (from requests->transformers) (2.10)\n",
      "Requirement already satisfied: urllib3<3,>=1.21.1 in c:\\users\\abhis\\appdata\\local\\programs\\python\\python311\\lib\\site-packages (from requests->transformers) (1.26.16)\n",
      "Requirement already satisfied: certifi>=2017.4.17 in c:\\users\\abhis\\appdata\\local\\programs\\python\\python311\\lib\\site-packages (from requests->transformers) (2023.7.22)\n"
     ]
    },
    {
     "name": "stderr",
     "output_type": "stream",
     "text": [
      "\n",
      "[notice] A new release of pip is available: 23.2.1 -> 24.1.2\n",
      "[notice] To update, run: python.exe -m pip install --upgrade pip\n"
     ]
    },
    {
     "name": "stdout",
     "output_type": "stream",
     "text": [
      "Requirement already satisfied: einops in c:\\users\\abhis\\appdata\\local\\programs\\python\\python311\\lib\\site-packages (0.7.0)\n"
     ]
    },
    {
     "name": "stderr",
     "output_type": "stream",
     "text": [
      "\n",
      "[notice] A new release of pip is available: 23.2.1 -> 24.1.2\n",
      "[notice] To update, run: python.exe -m pip install --upgrade pip\n"
     ]
    },
    {
     "name": "stdout",
     "output_type": "stream",
     "text": [
      "Requirement already satisfied: einops-exts in c:\\users\\abhis\\appdata\\local\\programs\\python\\python311\\lib\\site-packages (0.0.4)\n",
      "Requirement already satisfied: einops>=0.4 in c:\\users\\abhis\\appdata\\local\\programs\\python\\python311\\lib\\site-packages (from einops-exts) (0.7.0)\n"
     ]
    },
    {
     "name": "stderr",
     "output_type": "stream",
     "text": [
      "\n",
      "[notice] A new release of pip is available: 23.2.1 -> 24.1.2\n",
      "[notice] To update, run: python.exe -m pip install --upgrade pip\n"
     ]
    },
    {
     "name": "stdout",
     "output_type": "stream",
     "text": [
      "Requirement already satisfied: tqdm in c:\\users\\abhis\\appdata\\local\\programs\\python\\python311\\lib\\site-packages (4.66.4)\n",
      "Requirement already satisfied: colorama in c:\\users\\abhis\\appdata\\local\\programs\\python\\python311\\lib\\site-packages (from tqdm) (0.4.6)\n"
     ]
    },
    {
     "name": "stderr",
     "output_type": "stream",
     "text": [
      "\n",
      "[notice] A new release of pip is available: 23.2.1 -> 24.1.2\n",
      "[notice] To update, run: python.exe -m pip install --upgrade pip\n"
     ]
    },
    {
     "name": "stdout",
     "output_type": "stream",
     "text": [
      "Requirement already satisfied: typing in c:\\users\\abhis\\appdata\\local\\programs\\python\\python311\\lib\\site-packages (3.7.4.3)"
     ]
    },
    {
     "name": "stderr",
     "output_type": "stream",
     "text": [
      "\n",
      "[notice] A new release of pip is available: 23.2.1 -> 24.1.2\n",
      "[notice] To update, run: python.exe -m pip install --upgrade pip\n"
     ]
    },
    {
     "name": "stdout",
     "output_type": "stream",
     "text": [
      "Requirement already satisfied: typing-extensions in c:\\users\\abhis\\appdata\\local\\programs\\python\\python311\\lib\\site-packages (4.10.0)\n"
     ]
    },
    {
     "name": "stderr",
     "output_type": "stream",
     "text": [
      "\n",
      "[notice] A new release of pip is available: 23.2.1 -> 24.1.2\n",
      "[notice] To update, run: python.exe -m pip install --upgrade pip\n"
     ]
    }
   ],
   "source": [
    "!pip install SoundFile\n",
    "!pip install torchaudio\n",
    "!pip install munch\n",
    "!pip install torch\n",
    "!pip install pydub\n",
    "!pip install pyyaml\n",
    "!pip install librosa\n",
    "!pip install nltk\n",
    "!pip install matplotlib\n",
    "!pip install accelerate\n",
    "!pip install transformers\n",
    "!pip install einops\n",
    "!pip install einops-exts\n",
    "!pip install tqdm\n",
    "!pip install typing\n",
    "!pip install typing-extensions"
   ],
   "metadata": {
    "collapsed": false,
    "ExecuteTime": {
     "end_time": "2024-07-11T06:54:06.833940500Z",
     "start_time": "2024-07-11T06:53:23.995185Z"
    }
   },
   "id": "adde24347ecbfbf5"
  },
  {
   "cell_type": "code",
   "execution_count": 5,
   "outputs": [
    {
     "name": "stdout",
     "output_type": "stream",
     "text": [
      "Collecting git+https://github.com/resemble-ai/monotonic_align.git\n",
      "  Cloning https://github.com/resemble-ai/monotonic_align.git to c:\\users\\abhis\\appdata\\local\\temp\\pip-req-build-s09v5f_f\n",
      "  Resolved https://github.com/resemble-ai/monotonic_align.git to commit 78b985be210a03d08bc3acc01c4df0442105366f\n",
      "  Installing build dependencies: started\n",
      "  Installing build dependencies: finished with status 'done'\n",
      "  Getting requirements to build wheel: started\n",
      "  Getting requirements to build wheel: finished with status 'done'\n",
      "  Preparing metadata (pyproject.toml): started\n",
      "  Preparing metadata (pyproject.toml): finished with status 'done'\n",
      "Requirement already satisfied: numpy in c:\\users\\abhis\\appdata\\local\\programs\\python\\python311\\lib\\site-packages (from monotonic_align==1.2) (1.26.0rc1)\n"
     ]
    },
    {
     "name": "stderr",
     "output_type": "stream",
     "text": [
      "  Running command git clone --filter=blob:none --quiet https://github.com/resemble-ai/monotonic_align.git 'C:\\Users\\abhis\\AppData\\Local\\Temp\\pip-req-build-s09v5f_f'\n",
      "\n",
      "[notice] A new release of pip is available: 23.2.1 -> 24.1.2\n",
      "[notice] To update, run: python.exe -m pip install --upgrade pip\n"
     ]
    }
   ],
   "source": [
    "!pip install git+https://github.com/resemble-ai/monotonic_align.git\n"
   ],
   "metadata": {
    "collapsed": false,
    "ExecuteTime": {
     "end_time": "2024-07-11T06:54:28.953290500Z",
     "start_time": "2024-07-11T06:54:06.828918300Z"
    }
   },
   "id": "2332244898ca35a7"
  },
  {
   "cell_type": "code",
   "execution_count": 15,
   "outputs": [
    {
     "name": "stdout",
     "output_type": "stream",
     "text": [
      "Collecting git+https://github.com/resemble-ai/monotonic_align.git\n",
      "  Cloning https://github.com/resemble-ai/monotonic_align.git to c:\\users\\abhis\\appdata\\local\\temp\\pip-req-build-679gppke\n",
      "  Resolved https://github.com/resemble-ai/monotonic_align.git to commit 78b985be210a03d08bc3acc01c4df0442105366f\n",
      "  Installing build dependencies: started\n",
      "  Installing build dependencies: finished with status 'done'\n",
      "  Getting requirements to build wheel: started\n",
      "  Getting requirements to build wheel: finished with status 'done'\n",
      "  Preparing metadata (pyproject.toml): started\n",
      "  Preparing metadata (pyproject.toml): finished with status 'done'\n",
      "Requirement already satisfied: numpy in c:\\users\\abhis\\appdata\\local\\programs\\python\\python311\\lib\\site-packages (from monotonic_align==1.2) (1.26.0rc1)\n"
     ]
    },
    {
     "name": "stderr",
     "output_type": "stream",
     "text": [
      "  Running command git clone --filter=blob:none --quiet https://github.com/resemble-ai/monotonic_align.git 'C:\\Users\\abhis\\AppData\\Local\\Temp\\pip-req-build-679gppke'\n",
      "\n",
      "[notice] A new release of pip is available: 23.2.1 -> 24.1.2\n",
      "[notice] To update, run: python.exe -m pip install --upgrade pip\n"
     ]
    },
    {
     "name": "stdout",
     "output_type": "stream",
     "text": [
      "Requirement already satisfied: torch in c:\\users\\abhis\\appdata\\local\\programs\\python\\python311\\lib\\site-packages (2.3.1+cu118)\n",
      "Requirement already satisfied: torchvision in c:\\users\\abhis\\appdata\\local\\programs\\python\\python311\\lib\\site-packages (0.18.1+cu118)\n",
      "Requirement already satisfied: torchaudio in c:\\users\\abhis\\appdata\\local\\programs\\python\\python311\\lib\\site-packages (2.3.1+cu118)\n",
      "Requirement already satisfied: filelock in c:\\users\\abhis\\appdata\\local\\programs\\python\\python311\\lib\\site-packages (from torch) (3.12.4)\n",
      "Requirement already satisfied: typing-extensions>=4.8.0 in c:\\users\\abhis\\appdata\\local\\programs\\python\\python311\\lib\\site-packages (from torch) (4.10.0)\n",
      "Requirement already satisfied: sympy in c:\\users\\abhis\\appdata\\local\\programs\\python\\python311\\lib\\site-packages (from torch) (1.12)\n",
      "Requirement already satisfied: networkx in c:\\users\\abhis\\appdata\\local\\programs\\python\\python311\\lib\\site-packages (from torch) (2.8.8)\n",
      "Requirement already satisfied: jinja2 in c:\\users\\abhis\\appdata\\local\\programs\\python\\python311\\lib\\site-packages (from torch) (3.1.2)\n",
      "Requirement already satisfied: fsspec in c:\\users\\abhis\\appdata\\local\\programs\\python\\python311\\lib\\site-packages (from torch) (2023.12.2)\n",
      "Requirement already satisfied: mkl<=2021.4.0,>=2021.1.1 in c:\\users\\abhis\\appdata\\local\\programs\\python\\python311\\lib\\site-packages (from torch) (2021.4.0)\n",
      "Requirement already satisfied: numpy in c:\\users\\abhis\\appdata\\local\\programs\\python\\python311\\lib\\site-packages (from torchvision) (1.26.0rc1)\n",
      "Requirement already satisfied: pillow!=8.3.*,>=5.3.0 in c:\\users\\abhis\\appdata\\local\\programs\\python\\python311\\lib\\site-packages (from torchvision) (10.0.0)\n",
      "Requirement already satisfied: intel-openmp==2021.* in c:\\users\\abhis\\appdata\\local\\programs\\python\\python311\\lib\\site-packages (from mkl<=2021.4.0,>=2021.1.1->torch) (2021.4.0)\n",
      "Requirement already satisfied: tbb==2021.* in c:\\users\\abhis\\appdata\\local\\programs\\python\\python311\\lib\\site-packages (from mkl<=2021.4.0,>=2021.1.1->torch) (2021.12.0)\n",
      "Requirement already satisfied: MarkupSafe>=2.0 in c:\\users\\abhis\\appdata\\local\\programs\\python\\python311\\lib\\site-packages (from jinja2->torch) (2.1.3)\n",
      "Requirement already satisfied: mpmath>=0.19 in c:\\users\\abhis\\appdata\\local\\programs\\python\\python311\\lib\\site-packages (from sympy->torch) (1.3.0)\n"
     ]
    },
    {
     "name": "stderr",
     "output_type": "stream",
     "text": [
      "\n",
      "[notice] A new release of pip is available: 23.2.1 -> 24.1.2\n",
      "[notice] To update, run: python.exe -m pip install --upgrade pip\n"
     ]
    },
    {
     "name": "stdout",
     "output_type": "stream",
     "text": [
      "Requirement already satisfied: phonemizer in c:\\users\\abhis\\appdata\\local\\programs\\python\\python311\\lib\\site-packages (3.2.1)\n",
      "Requirement already satisfied: joblib in c:\\users\\abhis\\appdata\\local\\programs\\python\\python311\\lib\\site-packages (from phonemizer) (1.3.2)\n",
      "Requirement already satisfied: segments in c:\\users\\abhis\\appdata\\local\\programs\\python\\python311\\lib\\site-packages (from phonemizer) (2.2.1)\n",
      "Requirement already satisfied: attrs>=18.1 in c:\\users\\abhis\\appdata\\local\\programs\\python\\python311\\lib\\site-packages (from phonemizer) (23.2.0)\n",
      "Requirement already satisfied: dlinfo in c:\\users\\abhis\\appdata\\local\\programs\\python\\python311\\lib\\site-packages (from phonemizer) (1.2.1)\n",
      "Requirement already satisfied: typing-extensions in c:\\users\\abhis\\appdata\\local\\programs\\python\\python311\\lib\\site-packages (from phonemizer) (4.10.0)\n",
      "Requirement already satisfied: clldutils>=1.7.3 in c:\\users\\abhis\\appdata\\local\\programs\\python\\python311\\lib\\site-packages (from segments->phonemizer) (3.22.2)\n",
      "Requirement already satisfied: csvw>=1.5.6 in c:\\users\\abhis\\appdata\\local\\programs\\python\\python311\\lib\\site-packages (from segments->phonemizer) (3.3.0)\n",
      "Requirement already satisfied: regex in c:\\users\\abhis\\appdata\\local\\programs\\python\\python311\\lib\\site-packages (from segments->phonemizer) (2023.10.3)\n",
      "Requirement already satisfied: python-dateutil in c:\\users\\abhis\\appdata\\local\\programs\\python\\python311\\lib\\site-packages (from clldutils>=1.7.3->segments->phonemizer) (2.8.2)\n",
      "Requirement already satisfied: tabulate>=0.7.7 in c:\\users\\abhis\\appdata\\local\\programs\\python\\python311\\lib\\site-packages (from clldutils>=1.7.3->segments->phonemizer) (0.9.0)\n",
      "Requirement already satisfied: colorlog in c:\\users\\abhis\\appdata\\local\\programs\\python\\python311\\lib\\site-packages (from clldutils>=1.7.3->segments->phonemizer) (6.8.2)\n",
      "Requirement already satisfied: bibtexparser>=2.0.0b4 in c:\\users\\abhis\\appdata\\local\\programs\\python\\python311\\lib\\site-packages (from clldutils>=1.7.3->segments->phonemizer) (2.0.0b7)\n",
      "Requirement already satisfied: pylatexenc in c:\\users\\abhis\\appdata\\local\\programs\\python\\python311\\lib\\site-packages (from clldutils>=1.7.3->segments->phonemizer) (2.10)\n",
      "Requirement already satisfied: markdown in c:\\users\\abhis\\appdata\\local\\programs\\python\\python311\\lib\\site-packages (from clldutils>=1.7.3->segments->phonemizer) (3.4.4)\n",
      "Requirement already satisfied: lxml in c:\\users\\abhis\\appdata\\local\\programs\\python\\python311\\lib\\site-packages (from clldutils>=1.7.3->segments->phonemizer) (4.9.3)\n",
      "Requirement already satisfied: markupsafe in c:\\users\\abhis\\appdata\\local\\programs\\python\\python311\\lib\\site-packages (from clldutils>=1.7.3->segments->phonemizer) (2.1.3)\n",
      "Requirement already satisfied: babel in c:\\users\\abhis\\appdata\\local\\programs\\python\\python311\\lib\\site-packages (from csvw>=1.5.6->segments->phonemizer) (2.12.1)\n",
      "Requirement already satisfied: colorama in c:\\users\\abhis\\appdata\\local\\programs\\python\\python311\\lib\\site-packages (from csvw>=1.5.6->segments->phonemizer) (0.4.6)\n",
      "Requirement already satisfied: isodate in c:\\users\\abhis\\appdata\\local\\programs\\python\\python311\\lib\\site-packages (from csvw>=1.5.6->segments->phonemizer) (0.6.1)\n",
      "Requirement already satisfied: jsonschema in c:\\users\\abhis\\appdata\\local\\programs\\python\\python311\\lib\\site-packages (from csvw>=1.5.6->segments->phonemizer) (4.19.0)\n",
      "Requirement already satisfied: language-tags in c:\\users\\abhis\\appdata\\local\\programs\\python\\python311\\lib\\site-packages (from csvw>=1.5.6->segments->phonemizer) (1.2.0)\n",
      "Requirement already satisfied: rdflib in c:\\users\\abhis\\appdata\\local\\programs\\python\\python311\\lib\\site-packages (from csvw>=1.5.6->segments->phonemizer) (7.0.0)\n",
      "Requirement already satisfied: requests in c:\\users\\abhis\\appdata\\local\\programs\\python\\python311\\lib\\site-packages (from csvw>=1.5.6->segments->phonemizer) (2.32.3)\n",
      "Requirement already satisfied: rfc3986<2 in c:\\users\\abhis\\appdata\\local\\programs\\python\\python311\\lib\\site-packages (from csvw>=1.5.6->segments->phonemizer) (1.5.0)\n",
      "Requirement already satisfied: uritemplate>=3.0.0 in c:\\users\\abhis\\appdata\\local\\programs\\python\\python311\\lib\\site-packages (from csvw>=1.5.6->segments->phonemizer) (4.1.1)\n",
      "Requirement already satisfied: six in c:\\users\\abhis\\appdata\\local\\programs\\python\\python311\\lib\\site-packages (from isodate->csvw>=1.5.6->segments->phonemizer) (1.16.0)\n",
      "Requirement already satisfied: jsonschema-specifications>=2023.03.6 in c:\\users\\abhis\\appdata\\local\\programs\\python\\python311\\lib\\site-packages (from jsonschema->csvw>=1.5.6->segments->phonemizer) (2023.7.1)\n",
      "Requirement already satisfied: referencing>=0.28.4 in c:\\users\\abhis\\appdata\\local\\programs\\python\\python311\\lib\\site-packages (from jsonschema->csvw>=1.5.6->segments->phonemizer) (0.30.2)\n",
      "Requirement already satisfied: rpds-py>=0.7.1 in c:\\users\\abhis\\appdata\\local\\programs\\python\\python311\\lib\\site-packages (from jsonschema->csvw>=1.5.6->segments->phonemizer) (0.10.2)\n",
      "Requirement already satisfied: pyparsing<4,>=2.1.0 in c:\\users\\abhis\\appdata\\local\\programs\\python\\python311\\lib\\site-packages (from rdflib->csvw>=1.5.6->segments->phonemizer) (3.0.9)\n",
      "Requirement already satisfied: charset-normalizer<4,>=2 in c:\\users\\abhis\\appdata\\local\\programs\\python\\python311\\lib\\site-packages (from requests->csvw>=1.5.6->segments->phonemizer) (3.2.0)\n",
      "Requirement already satisfied: idna<4,>=2.5 in c:\\users\\abhis\\appdata\\local\\programs\\python\\python311\\lib\\site-packages (from requests->csvw>=1.5.6->segments->phonemizer) (2.10)\n",
      "Requirement already satisfied: urllib3<3,>=1.21.1 in c:\\users\\abhis\\appdata\\local\\programs\\python\\python311\\lib\\site-packages (from requests->csvw>=1.5.6->segments->phonemizer) (1.26.16)\n",
      "Requirement already satisfied: certifi>=2017.4.17 in c:\\users\\abhis\\appdata\\local\\programs\\python\\python311\\lib\\site-packages (from requests->csvw>=1.5.6->segments->phonemizer) (2023.7.22)\n"
     ]
    },
    {
     "name": "stderr",
     "output_type": "stream",
     "text": [
      "\n",
      "[notice] A new release of pip is available: 23.2.1 -> 24.1.2\n",
      "[notice] To update, run: python.exe -m pip install --upgrade pip\n"
     ]
    },
    {
     "name": "stdout",
     "output_type": "stream",
     "text": [
      "Requirement already satisfied: soundfile in c:\\users\\abhis\\appdata\\local\\programs\\python\\python311\\lib\\site-packages (0.12.1)\n",
      "Requirement already satisfied: cffi>=1.0 in c:\\users\\abhis\\appdata\\local\\programs\\python\\python311\\lib\\site-packages (from soundfile) (1.15.1)\n",
      "Requirement already satisfied: pycparser in c:\\users\\abhis\\appdata\\local\\programs\\python\\python311\\lib\\site-packages (from cffi>=1.0->soundfile) (2.21)\n"
     ]
    },
    {
     "name": "stderr",
     "output_type": "stream",
     "text": [
      "\n",
      "[notice] A new release of pip is available: 23.2.1 -> 24.1.2\n",
      "[notice] To update, run: python.exe -m pip install --upgrade pip\n"
     ]
    },
    {
     "ename": "ModuleNotFoundError",
     "evalue": "No module named 'utils'",
     "output_type": "error",
     "traceback": [
      "\u001B[1;31m---------------------------------------------------------------------------\u001B[0m",
      "\u001B[1;31mModuleNotFoundError\u001B[0m                       Traceback (most recent call last)",
      "Cell \u001B[1;32mIn[15], line 21\u001B[0m\n\u001B[0;32m     19\u001B[0m \u001B[38;5;66;03m# Import custom modules\u001B[39;00m\n\u001B[0;32m     20\u001B[0m \u001B[38;5;28;01mfrom\u001B[39;00m \u001B[38;5;21;01mstyletts2\u001B[39;00m \u001B[38;5;28;01mimport\u001B[39;00m tts\n\u001B[1;32m---> 21\u001B[0m \u001B[38;5;28;01mfrom\u001B[39;00m \u001B[38;5;21;01mutils\u001B[39;00m \u001B[38;5;28;01mimport\u001B[39;00m load_checkpoint, prepare_input\n\u001B[0;32m     22\u001B[0m \u001B[38;5;28;01mfrom\u001B[39;00m \u001B[38;5;21;01mUtils\u001B[39;00m\u001B[38;5;21;01m.\u001B[39;00m\u001B[38;5;21;01mASR\u001B[39;00m\u001B[38;5;21;01m.\u001B[39;00m\u001B[38;5;21;01mmodels\u001B[39;00m \u001B[38;5;28;01mimport\u001B[39;00m ASRCNN\n\u001B[0;32m     23\u001B[0m \u001B[38;5;28;01mfrom\u001B[39;00m \u001B[38;5;21;01mUtils\u001B[39;00m\u001B[38;5;21;01m.\u001B[39;00m\u001B[38;5;21;01mJDC\u001B[39;00m\u001B[38;5;21;01m.\u001B[39;00m\u001B[38;5;21;01mmodel\u001B[39;00m \u001B[38;5;28;01mimport\u001B[39;00m JDCNet\n",
      "\u001B[1;31mModuleNotFoundError\u001B[0m: No module named 'utils'"
     ]
    }
   ],
   "source": [
    "# Install necessary packages\n",
    "!pip install git+https://github.com/resemble-ai/monotonic_align.git\n",
    "!pip install torch torchvision torchaudio\n",
    "!pip install phonemizer\n",
    "!pip install soundfile\n",
    "\n",
    "# Import necessary libraries\n",
    "import os\n",
    "import subprocess\n",
    "import requests\n",
    "import tarfile\n",
    "import shutil\n",
    "import sys\n",
    "\n",
    "# Add the current directory and Utils folder to Python path\n",
    "sys.path.append(os.path.dirname(os.path.abspath('__file__')))\n",
    "sys.path.append(os.path.join(os.path.dirname(os.path.abspath('__file__')), 'Utils'))\n",
    "\n",
    "# Import custom modules\n",
    "from styletts2 import tts\n",
    "from utils import load_checkpoint, prepare_input\n",
    "from Utils.ASR.models import ASRCNN\n",
    "from Utils.JDC.model import JDCNet\n",
    "from Utils.PLBERT.util import load_plbert\n",
    "\n",
    "import torch\n",
    "import soundfile as sf\n",
    "\n",
    "# Define function to download and prepare dataset\n",
    "def download_and_prepare_dataset():\n",
    "    url = \"https://data.keithito.com/data/speech/LJSpeech-1.1.tar.bz2\"\n",
    "    local_filename = \"LJSpeech-1.1.tar.bz2\"\n",
    "\n",
    "    print(\"Downloading dataset...\")\n",
    "    with requests.get(url, stream=True) as r:\n",
    "        r.raise_for_status()\n",
    "        with open(local_filename, 'wb') as f:\n",
    "            for chunk in r.iter_content(chunk_size=8192):\n",
    "                f.write(chunk)\n",
    "    print(\"Download complete.\")\n",
    "\n",
    "    print(\"Extracting dataset...\")\n",
    "    with tarfile.open(local_filename, \"r:bz2\") as tar:\n",
    "        tar.extractall(path=\".\")\n",
    "    print(\"Extraction complete.\")\n",
    "\n",
    "    src = \"LJSpeech-1.1\"\n",
    "    dst = \"data/LJSpeech\"\n",
    "\n",
    "    print(\"Moving dataset to final location...\")\n",
    "    if os.path.exists(dst):\n",
    "        shutil.rmtree(dst)\n",
    "    shutil.move(src, dst)\n",
    "    print(\"Move complete.\")\n",
    "\n",
    "# Download and prepare the dataset\n",
    "download_and_prepare_dataset()\n",
    "\n",
    "# Define functions for training the model\n",
    "def train_first_stage():\n",
    "    subprocess.run([\"python\", \"-m\", \"torch.distributed.launch\", \"--nproc_per_node=1\", \"train_first.py\", \"--config_path\", \"./Configs/config.yml\"])\n",
    "\n",
    "def train_second_stage():\n",
    "    subprocess.run([\"python\", \"train_second.py\", \"--config_path\", \"./Configs/config.yml\"])\n",
    "\n",
    "def train_model():\n",
    "    print(\"Training first stage...\")\n",
    "    train_first_stage()\n",
    "    print(\"First stage training complete.\")\n",
    "    \n",
    "    print(\"Training second stage...\")\n",
    "    train_second_stage()\n",
    "    print(\"Second stage training complete.\")\n",
    "\n",
    "# Train the model\n",
    "train_model()\n",
    "\n",
    "# Define function for inference\n",
    "def run_inference():\n",
    "    model = StyleTTS\n"
   ],
   "metadata": {
    "collapsed": false,
    "ExecuteTime": {
     "end_time": "2024-07-11T07:11:05.340664500Z",
     "start_time": "2024-07-11T07:10:35.395489300Z"
    }
   },
   "id": "fb14a56d438cf5b5"
  },
  {
   "cell_type": "code",
   "execution_count": 1,
   "outputs": [
    {
     "name": "stdout",
     "output_type": "stream",
     "text": [
      "Downloading dataset...\n",
      "Download complete.\n",
      "Extracting dataset...\n",
      "Extraction complete.\n",
      "Moving dataset to final location...\n",
      "Move complete.\n"
     ]
    }
   ],
   "source": [
    "import requests\n",
    "import tarfile\n",
    "import shutil\n",
    "import os\n",
    "\n",
    "def download_and_prepare_dataset():\n",
    "    # Step 1: Download the dataset\n",
    "    url = \"https://data.keithito.com/data/speech/LJSpeech-1.1.tar.bz2\"\n",
    "    local_filename = \"LJSpeech-1.1.tar.bz2\"\n",
    "\n",
    "    print(\"Downloading dataset...\")\n",
    "    with requests.get(url, stream=True) as r:\n",
    "        r.raise_for_status()\n",
    "        with open(local_filename, 'wb') as f:\n",
    "            for chunk in r.iter_content(chunk_size=8192):\n",
    "                f.write(chunk)\n",
    "    print(\"Download complete.\")\n",
    "\n",
    "    # Step 2: Extract the tarball\n",
    "    tar_path = local_filename\n",
    "    extract_path = \".\"\n",
    "\n",
    "    print(\"Extracting dataset...\")\n",
    "    with tarfile.open(tar_path, \"r:bz2\") as tar:\n",
    "        tar.extractall(path=extract_path)\n",
    "    print(\"Extraction complete.\")\n",
    "\n",
    "    # Step 3: Move the extracted directory\n",
    "    src = \"LJSpeech-1.1\"\n",
    "    dst = \"data/LJSpeech\"\n",
    "\n",
    "    print(\"Moving dataset to final location...\")\n",
    "    if os.path.exists(dst):\n",
    "        shutil.rmtree(dst)  # Remove existing directory if exists\n",
    "    shutil.move(src, dst)\n",
    "    print(\"Move complete.\")\n",
    "\n",
    "download_and_prepare_dataset()\n"
   ],
   "metadata": {
    "collapsed": false,
    "ExecuteTime": {
     "end_time": "2024-07-12T05:45:24.831788400Z",
     "start_time": "2024-07-12T05:37:35.658813800Z"
    }
   },
   "id": "57492716b66597f1"
  },
  {
   "cell_type": "code",
   "execution_count": 3,
   "outputs": [
    {
     "name": "stdout",
     "output_type": "stream",
     "text": [
      "First stage training complete.\n",
      "Second stage training complete.\n"
     ]
    }
   ],
   "source": [
    "import subprocess\n",
    "\n",
    "def train_first_stage():\n",
    "    subprocess.run([\"python\", \"-m\", \"torch.distributed.launch\", \"--nproc_per_node=1\", \"train_first.py\", \"--config_path\", \"./Configs/config.yml\"])\n",
    "\n",
    "def train_second_stage():\n",
    "    subprocess.run([\"python\", \"train_second.py\", \"--config_path\", \"./Configs/config.yml\"])\n",
    "\n",
    "def train_model():\n",
    "    train_first_stage()\n",
    "    print(\"First stage training complete.\")\n",
    "    \n",
    "    train_second_stage()\n",
    "    print(\"Second stage training complete.\")\n",
    "\n",
    "train_model()\n",
    "\n"
   ],
   "metadata": {
    "collapsed": false,
    "ExecuteTime": {
     "end_time": "2024-07-12T05:46:24.466850900Z",
     "start_time": "2024-07-12T05:46:15.831519700Z"
    }
   },
   "id": "cb76c886972da049"
  },
  {
   "cell_type": "code",
   "execution_count": 4,
   "outputs": [
    {
     "name": "stderr",
     "output_type": "stream",
     "text": [
      "2024-07-12 01:48:57,589 - INFO - Training model started.\n",
      "2024-07-12 01:48:57,589 - INFO - Starting first stage training...\n",
      "2024-07-12 01:49:06,339 - INFO - First stage training completed successfully.\n",
      "2024-07-12 01:49:06,339 - INFO - Starting second stage training...\n",
      "2024-07-12 01:49:06,386 - INFO - Second stage training completed successfully.\n",
      "2024-07-12 01:49:06,386 - INFO - Training model completed.\n"
     ]
    }
   ],
   "source": [
    "import logging\n",
    "import subprocess\n",
    "\n",
    "# Configure logging\n",
    "logging.basicConfig(\n",
    "    level=logging.DEBUG,\n",
    "    format='%(asctime)s - %(levelname)s - %(message)s',\n",
    "    handlers=[\n",
    "        logging.FileHandler(\"training.log\"),\n",
    "        logging.StreamHandler()\n",
    "    ]\n",
    ")\n",
    "\n",
    "def train_first_stage():\n",
    "    logging.info(\"Starting first stage training...\")\n",
    "    try:\n",
    "        subprocess.run([\"python\", \"-m\", \"torch.distributed.launch\", \"--nproc_per_node=1\", \"train_first.py\", \"--config_path\", \"./Configs/config.yml\"])\n",
    "        logging.info(\"First stage training completed successfully.\")\n",
    "    except subprocess.CalledProcessError as e:\n",
    "        logging.error(f\"First stage training failed with error: {e}\")\n",
    "\n",
    "def train_second_stage():\n",
    "    logging.info(\"Starting second stage training...\")\n",
    "    try:\n",
    "        subprocess.run([\"python\", \"train_second.py\", \"--config_path\", \"./Configs/config.yml\"])\n",
    "        logging.info(\"Second stage training completed successfully.\")\n",
    "    except subprocess.CalledProcessError as e:\n",
    "        logging.error(f\"Second stage training failed with error: {e}\")\n",
    "\n",
    "def train_model():\n",
    "    logging.info(\"Training model started.\")\n",
    "    train_first_stage()\n",
    "    train_second_stage()\n",
    "    logging.info(\"Training model completed.\")\n",
    "\n",
    "if __name__ == \"__main__\":\n",
    "    train_model()\n"
   ],
   "metadata": {
    "collapsed": false,
    "ExecuteTime": {
     "end_time": "2024-07-12T05:49:06.403115600Z",
     "start_time": "2024-07-12T05:48:57.589664200Z"
    }
   },
   "id": "c090fd242ced836d"
  },
  {
   "cell_type": "code",
   "execution_count": 6,
   "outputs": [],
   "source": [
    "import torch\n",
    "import styletts2"
   ],
   "metadata": {
    "collapsed": false,
    "ExecuteTime": {
     "end_time": "2024-07-12T05:53:20.857862200Z",
     "start_time": "2024-07-12T05:53:20.845272400Z"
    }
   },
   "id": "6fa9cf1d8751e01b"
  },
  {
   "cell_type": "code",
   "execution_count": 8,
   "outputs": [
    {
     "ename": "ModuleNotFoundError",
     "evalue": "No module named 'mosnet'",
     "output_type": "error",
     "traceback": [
      "\u001B[1;31m---------------------------------------------------------------------------\u001B[0m",
      "\u001B[1;31mModuleNotFoundError\u001B[0m                       Traceback (most recent call last)",
      "Cell \u001B[1;32mIn[8], line 1\u001B[0m\n\u001B[1;32m----> 1\u001B[0m \u001B[38;5;28;01mfrom\u001B[39;00m \u001B[38;5;21;01mmosnet\u001B[39;00m \u001B[38;5;28;01mimport\u001B[39;00m MOSNet\n\u001B[0;32m      2\u001B[0m \u001B[38;5;28;01mfrom\u001B[39;00m \u001B[38;5;21;01mwer\u001B[39;00m \u001B[38;5;28;01mimport\u001B[39;00m compute_wer\n\u001B[0;32m      4\u001B[0m \u001B[38;5;66;03m# Assuming you have the ground truth and synthesized speech files\u001B[39;00m\n",
      "\u001B[1;31mModuleNotFoundError\u001B[0m: No module named 'mosnet'"
     ]
    }
   ],
   "source": [
    "\n"
   ],
   "metadata": {
    "collapsed": false,
    "ExecuteTime": {
     "end_time": "2024-07-12T05:55:24.990003900Z",
     "start_time": "2024-07-12T05:55:24.957786200Z"
    }
   },
   "id": "6becb8ab7ee323"
  },
  {
   "cell_type": "code",
   "execution_count": null,
   "outputs": [],
   "source": [],
   "metadata": {
    "collapsed": false
   },
   "id": "721e8e34033d5d34"
  }
 ],
 "metadata": {
  "kernelspec": {
   "display_name": "Python 3",
   "language": "python",
   "name": "python3"
  },
  "language_info": {
   "codemirror_mode": {
    "name": "ipython",
    "version": 2
   },
   "file_extension": ".py",
   "mimetype": "text/x-python",
   "name": "python",
   "nbconvert_exporter": "python",
   "pygments_lexer": "ipython2",
   "version": "2.7.6"
  }
 },
 "nbformat": 4,
 "nbformat_minor": 5
}
