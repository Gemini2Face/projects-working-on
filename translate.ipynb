{
 "cells": [
  {
   "cell_type": "code",
   "execution_count": 3,
   "id": "initial_id",
   "metadata": {
    "collapsed": true,
    "ExecuteTime": {
     "end_time": "2024-06-27T15:25:43.761900700Z",
     "start_time": "2024-06-27T15:25:38.117475400Z"
    }
   },
   "outputs": [
    {
     "name": "stdout",
     "output_type": "stream",
     "text": [
      "Segment Translations:\n",
      "Segment 1: Ich werde deine Frage beantworten und dann für seliges Schweigen zurückkehren\n",
      "\n",
      "Full Translation:\n",
      "Ich werde deine Frage beantworten und dann für gesegnetes Schweigen zurückkehren\n"
     ]
    }
   ],
   "source": [
    "from pydub import AudioSegment\n",
    "import speech_recognition as sr\n",
    "from google.cloud import translate_v3 as translate\n",
    "from google.oauth2 import service_account\n",
    "import os\n",
    "import json\n",
    "\n",
    "\n",
    "credentials_path = r'C:\\Users\\abhis\\OneDrive\\Desktop\\realign voice cloning\\tactile-vehicle-427513-g4-745aea4da0e0.json'\n",
    "\n",
    "\n",
    "with open(credentials_path, 'r') as file:\n",
    "    data = json.load(file)\n",
    "    project_id = data['project_id']\n",
    "\n",
    "\n",
    "credentials = service_account.Credentials.from_service_account_file(credentials_path)\n",
    "\n",
    "\n",
    "translate_client = translate.TranslationServiceClient(credentials=credentials)\n",
    "\n",
    "\n",
    "r = sr.Recognizer()\n",
    "\n",
    "\n",
    "def segment_audio(audio_path, segment_length=10):\n",
    "    audio = AudioSegment.from_file(audio_path)\n",
    "    length = len(audio)\n",
    "    return [audio[i:i + segment_length * 1000] for i in range(0, length, segment_length * 1000)]\n",
    "\n",
    "\n",
    "def transcribe_audio(audio_path):\n",
    "    with sr.AudioFile(audio_path) as source:\n",
    "        audio_recorded = r.record(source)\n",
    "        try:\n",
    "            return r.recognize_google(audio_recorded)\n",
    "        except sr.UnknownValueError:\n",
    "            return \"Google Speech Recognition could not understand audio.\"\n",
    "        except sr.RequestError as e:\n",
    "            return f\"Could not request results from Google Speech Recognition service; {e}.\"\n",
    "\n",
    "\n",
    "def translate_text(text, target_language=\"de\"):\n",
    "    if not text:\n",
    "        return \"No text to translate.\"\n",
    "    parent = f\"projects/{project_id}/locations/global\"\n",
    "    response = translate_client.translate_text(\n",
    "        request={\n",
    "            \"parent\": parent,\n",
    "            \"contents\": [text],\n",
    "            \"mime_type\": \"text/plain\",\n",
    "            \"source_language_code\": \"en\",\n",
    "            \"target_language_code\": target_language,\n",
    "        }\n",
    "    )\n",
    "    return response.translations[0].translated_text\n",
    "\n",
    "\n",
    "def process_audio_file(audio_file):\n",
    "    segments = segment_audio(audio_file)\n",
    "    segment_translations = []\n",
    "    \n",
    "    \n",
    "    for i, segment in enumerate(segments):\n",
    "        segment_file = f\"temp_segment_{i}.wav\"\n",
    "        segment.export(segment_file, format='wav')\n",
    "        text = transcribe_audio(segment_file)\n",
    "        translation = translate_text(text)\n",
    "        segment_translations.append(translation)\n",
    "        os.remove(segment_file)  # Clean up after processing\n",
    "    \n",
    "   \n",
    "    full_text = transcribe_audio(audio_file)\n",
    "    full_translation = translate_text(full_text)\n",
    "    \n",
    "    print(\"Segment Translations:\")\n",
    "    for i, translation in enumerate(segment_translations):\n",
    "        print(f\"Segment {i+1}: {translation}\")\n",
    "    \n",
    "    print(\"\\nFull Translation:\")\n",
    "    print(full_translation)\n",
    "\n",
    "    \n",
    "\n",
    "\n",
    "if __name__ == \"__main__\":\n",
    "    audio_file_path = r'C:\\Users\\abhis\\OneDrive\\Desktop\\realign voice cloning\\Voicy_Answer your question for silence.wav'  # Update this path\n",
    "    process_audio_file(audio_file_path)\n"
   ]
  },
  {
   "cell_type": "code",
   "execution_count": 3,
   "outputs": [],
   "source": [],
   "metadata": {
    "collapsed": false,
    "ExecuteTime": {
     "end_time": "2024-06-27T15:25:43.764805900Z",
     "start_time": "2024-06-27T15:25:43.761900700Z"
    }
   },
   "id": "fb6577d0b215b9ee"
  },
  {
   "cell_type": "code",
   "execution_count": 3,
   "outputs": [],
   "source": [],
   "metadata": {
    "collapsed": false,
    "ExecuteTime": {
     "end_time": "2024-06-27T15:25:43.768453400Z",
     "start_time": "2024-06-27T15:25:43.764805900Z"
    }
   },
   "id": "a654c08f42bedb04"
  },
  {
   "cell_type": "code",
   "execution_count": 3,
   "outputs": [],
   "source": [],
   "metadata": {
    "collapsed": false,
    "ExecuteTime": {
     "end_time": "2024-06-27T15:25:43.772405200Z",
     "start_time": "2024-06-27T15:25:43.768453400Z"
    }
   },
   "id": "c4178ca24c68f4d"
  },
  {
   "cell_type": "code",
   "execution_count": 3,
   "outputs": [],
   "source": [],
   "metadata": {
    "collapsed": false,
    "ExecuteTime": {
     "end_time": "2024-06-27T15:25:43.776833400Z",
     "start_time": "2024-06-27T15:25:43.772405200Z"
    }
   },
   "id": "3dc7e3a8a0dfb056"
  },
  {
   "cell_type": "code",
   "execution_count": 3,
   "outputs": [],
   "source": [],
   "metadata": {
    "collapsed": false,
    "ExecuteTime": {
     "end_time": "2024-06-27T15:25:43.780399900Z",
     "start_time": "2024-06-27T15:25:43.776411900Z"
    }
   },
   "id": "8a5b47d436dcdddd"
  },
  {
   "cell_type": "code",
   "execution_count": 3,
   "outputs": [],
   "source": [],
   "metadata": {
    "collapsed": false,
    "ExecuteTime": {
     "end_time": "2024-06-27T15:25:43.783408200Z",
     "start_time": "2024-06-27T15:25:43.780399900Z"
    }
   },
   "id": "5ad53f9e06024805"
  }
 ],
 "metadata": {
  "kernelspec": {
   "display_name": "Python 3",
   "language": "python",
   "name": "python3"
  },
  "language_info": {
   "codemirror_mode": {
    "name": "ipython",
    "version": 2
   },
   "file_extension": ".py",
   "mimetype": "text/x-python",
   "name": "python",
   "nbconvert_exporter": "python",
   "pygments_lexer": "ipython2",
   "version": "2.7.6"
  }
 },
 "nbformat": 4,
 "nbformat_minor": 5
}
